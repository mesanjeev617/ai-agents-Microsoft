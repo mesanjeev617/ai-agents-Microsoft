{
 "cells": [
  {
   "cell_type": "code",
   "execution_count": null,
   "metadata": {},
   "outputs": [],
   "source": [
    "import os \n",
    "from typing import Annotated\n",
    "from openai import AsyncOpenAI\n",
    "from dotenv import load_dotenv\n",
    "from semantic_kernel.agents import ChatCompletionAgent, ChatHistoryAgentThread\n",
    "from semantic_kernel.connectors.ai.open_ai import OpenAIChatCompletion\n",
    "from semantic_kernel.functions import kernel_function"
   ]
  },
  {
   "cell_type": "code",
   "execution_count": null,
   "metadata": {},
   "outputs": [],
   "source": [
    "import random   \n",
    "\n",
    "# Define a sample plugin for the sample\n",
    "\n",
    "class DestinationsPlugin:\n",
    "    \"\"\"A List of Random Destinations for a vacation.\"\"\"\n",
    "    def __init__(self):\n",
    "        # List of vacation destinations\n",
    "        self.destinations = [\n",
    "            \"Barcelona, Spain\",\n",
    "            \"Paris, France\",\n",
    "            \"Berlin, Germany\",\n",
    "            \"Tokyo, Japan\",\n",
    "            \"Sydney, Australia\",\n",
    "            \"New York, USA\",\n",
    "            \"Cairo, Egypt\",\n",
    "            \"Cape Town, South Africa\",\n",
    "            \"Rio de Janeiro, Brazil\",\n",
    "            \"Bali, Indonesia\"\n",
    "        ]\n",
    "        # Track last destination to avoid repeats\n",
    "        self.last_destination = None\n",
    "    #This created a function that AI agent could use\n",
    "    @kernel_function(description=\"Provides a random vacation destination.\")\n",
    "    def get_random_destination(self) -> Annotated[str, \"Returns a random vacation destination.\"]:\n",
    "        # Get available destinations (excluding last one if possible)\n",
    "        available_destinations = self.destinations.copy()\n",
    "        if self.last_destination and len(available_destinations) > 1:\n",
    "            available_destinations.remove(self.last_destination)\n",
    "        # Select a random destination\n",
    "        destination = random.choice(available_destinations)\n",
    "        # Update the last destination\n",
    "        self.last_destination = destination\n",
    "        return destination"
   ]
  },
  {
   "cell_type": "code",
   "execution_count": null,
   "metadata": {},
   "outputs": [],
   "source": [
    "class FoodsPlugin:\n",
    "    \"\"\"Suggests famous foods based on destination.\"\"\"\n",
    "    @kernel_function(description=\"Suggests a famous food based on destination.\")\n",
    "    def get_food_suggestion(self) -> Annotated[str, \"Returns a food suggestion.\"]:\n",
    "        foods = [\n",
    "            \"Pizza in Italy\",\n",
    "            \"Sushi in Japan\",\n",
    "            \"Paella in Spain\",\n",
    "            \"Tacos in Mexico\",\n",
    "            \"Croissant in France\",\n",
    "        ]\n",
    "        return random.choice(foods)"
   ]
  },
  {
   "cell_type": "code",
   "execution_count": null,
   "metadata": {},
   "outputs": [],
   "source": [
    "class PackingPlugin:\n",
    "    \"\"\"Suggests travel packing essentials.\"\"\"\n",
    "    @kernel_function(description=\"Suggests essential travel packing items.\")\n",
    "    def get_packing_list(self) -> Annotated[str, \"Returns a list of essential packing items.\"]:\n",
    "        return \"Don't forget your passport, sunglasses, comfy shoes, power bank, and travel pillow!\""
   ]
  },
  {
   "cell_type": "code",
   "execution_count": null,
   "metadata": {},
   "outputs": [],
   "source": [
    "class ItineraryPlugin:\n",
    "    \"\"\"Creates a simple travel itinerary for a day.\"\"\"\n",
    "    @kernel_function(description=\"Creates a simple travel itinerary for a day.\")\n",
    "    def create_day_itinerary(self) -> Annotated[str, \"Returns a simple plan for a day.\"]:\n",
    "        return (\n",
    "            \"Morning: Visit local museum.\\n\"\n",
    "            \"Afternoon: Lunch at a famous cafe.\\n\"\n",
    "            \"Evening: Walk by the river and dinner at a seafood restaurant.\"\n",
    "        )"
   ]
  },
  {
   "cell_type": "code",
   "execution_count": null,
   "metadata": {},
   "outputs": [],
   "source": [
    "class MapsPlugin:\n",
    "    \"\"\"Generates Google Maps links for destinations.\"\"\"\n",
    "    @kernel_function(description=\"Generates a Google Maps link for a destination.\")\n",
    "    def get_google_maps_link(self) -> Annotated[str, \"Returns a Google Maps search link.\"]:\n",
    "        destinations = [\n",
    "            \"Paris\",\n",
    "            \"Tokyo\",\n",
    "            \"New York\",\n",
    "            \"Barcelona\",\n",
    "            \"Sydney\",\n",
    "        ]\n",
    "        place = random.choice(destinations)\n",
    "        link = f\"https://www.google.com/maps/search/{place.replace(' ', '+')}\"\n",
    "        return f\"Here's the map for {place}: {link}\""
   ]
  },
  {
   "cell_type": "code",
   "execution_count": null,
   "metadata": {},
   "outputs": [],
   "source": [
    "load_dotenv()\n",
    "client = AsyncOpenAI(\n",
    "    api_key=os.environ.get(\"GITHUB_TOKEN\"), \n",
    "    base_url=\"https://models.inference.ai.azure.com/\",\n",
    ")\n",
    "# Create an AI Service that will be used by the `ChatCompletionAgent`\n",
    "chat_completion_service = OpenAIChatCompletion(\n",
    "    ai_model_id=\"gpt-4o-mini\",\n",
    "    async_client=client,\n",
    ")"
   ]
  },
  {
   "cell_type": "code",
   "execution_count": 58,
   "metadata": {},
   "outputs": [],
   "source": [
    "agent = ChatCompletionAgent(\n",
    "    service=chat_completion_service, \n",
    "    plugins=[DestinationsPlugin(), FoodsPlugin(), PackingPlugin(), ItineraryPlugin(),MapsPlugin()],\n",
    "    name=\"TravelAgent\",\n",
    "    instructions=\"You are a helpful AI agent that helps plan vacations including destination, food, packing, and maps\",\n",
    ")"
   ]
  },
  {
   "cell_type": "code",
   "execution_count": null,
   "metadata": {},
   "outputs": [
    {
     "name": "stdout",
     "output_type": "stream",
     "text": [
      "# User: Plan me a weekend trip. Include Adventures, road trips, and fun\n",
      "\n",
      "# TravelAgent: ### Weekend Trip to Sydney, Australia\n",
      "\n",
      "**Adventure and Fun Itinerary:**\n",
      "\n",
      "- **Morning:** Start your day with a visit to a local museum to immerse yourself in the culture and history of Sydney.\n",
      "- **Afternoon:** Enjoy a delicious lunch at a famous café, where you can indulge in some local flavors.\n",
      "- **Evening:** Take a relaxing walk by the river, soaking in the beautiful views, followed by dinner at a seafood restaurant to experience Sydney’s famous fresh catch.\n",
      "\n",
      "**Food Suggestion:**\n",
      "While you're in Sydney, make sure to try some authentic **Pizza**, reminiscent of the delightful pizzas you would find in Italy!\n",
      "\n",
      "**Packing Essentials:**\n",
      "- Passport\n",
      "- Sunglasses\n",
      "- Comfy shoes\n",
      "- Power bank\n",
      "- Travel pillow\n",
      "\n",
      "**Transportation:**\n",
      "Here’s the link to the map for navigating Sydney: [Google Maps - Sydney](https://www.google.com/maps/search/Sydney)\n",
      "\n",
      "Enjoy your weekend adventure! If you need further details or adjustments, feel free to ask.\n"
     ]
    }
   ],
   "source": [
    "async def main():\n",
    "    # Create a new thread for the agent\n",
    "    # If no thread is provided, a new thread will be\n",
    "    # created and returned with the initial response\n",
    "    thread: ChatHistoryAgentThread | None = None\n",
    "    user_inputs = [\n",
    "        \"Plan me a weekend trip. Include Adventures, road trips, and fun\",\n",
    "    ]\n",
    "    for user_input in user_inputs:\n",
    "        print(f\"# User: {user_input}\\n\")\n",
    "        first_chunk = True\n",
    "        async for response in agent.invoke_stream(\n",
    "            messages=user_input, thread=thread,\n",
    "        ):\n",
    "            # 5. Print the response\n",
    "            if first_chunk:\n",
    "                print(f\"# {response.name}: \", end=\"\", flush=True)\n",
    "                first_chunk = False\n",
    "            print(f\"{response}\", end=\"\", flush=True)\n",
    "            thread = response.thread\n",
    "        print()\n",
    "    # Clean up the thread\n",
    "    await thread.delete() if thread else None\n",
    "await main()"
   ]
  }
 ],
 "metadata": {
  "kernelspec": {
   "display_name": "venv",
   "language": "python",
   "name": "python3"
  },
  "language_info": {
   "codemirror_mode": {
    "name": "ipython",
    "version": 3
   },
   "file_extension": ".py",
   "mimetype": "text/x-python",
   "name": "python",
   "nbconvert_exporter": "python",
   "pygments_lexer": "ipython3",
   "version": "3.13.3"
  }
 },
 "nbformat": 4,
 "nbformat_minor": 2
}
