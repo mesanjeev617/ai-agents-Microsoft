{
 "cells": [
  {
   "cell_type": "code",
   "execution_count": 3,
   "metadata": {},
   "outputs": [],
   "source": [
    "import os\n",
    "from dotenv import load_dotenv\n",
    "\n",
    "from autogen_agentchat.agents import AssistantAgent\n",
    "from autogen_core.models import UserMessage\n",
    "from autogen_ext.models.azure import AzureAIChatCompletionClient\n",
    "from azure.core.credentials import AzureKeyCredential\n",
    "from autogen_core import CancellationToken\n",
    "\n",
    "from autogen_agentchat.messages import TextMessage\n",
    "from autogen_agentchat.ui import Console\n"
   ]
  },
  {
   "cell_type": "code",
   "execution_count": 4,
   "metadata": {},
   "outputs": [
    {
     "name": "stdout",
     "output_type": "stream",
     "text": [
      "finish_reason='stop' content='The capital of France is Paris.' usage=RequestUsage(prompt_tokens=14, completion_tokens=8) cached=False logprobs=None thought=None\n"
     ]
    }
   ],
   "source": [
    "load_dotenv() #Loads my env file\n",
    "client = AzureAIChatCompletionClient(\n",
    "    model=\"gpt-4o-mini\",\n",
    "    endpoint=\"https://models.inference.ai.azure.com\",\n",
    "    # To authenticate with the model you will need to generate a personal access token (PAT) in your GitHub settings.\n",
    "    # Create your PAT token by following instructions here: https://docs.github.com/en/authentication/keeping-your-account-and-data-secure/managing-your-personal-access-tokens\n",
    "    credential=AzureKeyCredential(os.getenv(\"GITHUB_TOKEN\")),\n",
    "    model_info={\n",
    "        \"json_output\": True,\n",
    "        \"function_calling\": True,\n",
    "        \"vision\": True,\n",
    "        \"family\": \"unknown\",\n",
    "    },\n",
    ")\n",
    "\n",
    "result = await client.create([UserMessage(content=\"What is the capital of France?\", source=\"user\")])\n",
    "print(result) #Testing Autogen setup"
   ]
  },
  {
   "cell_type": "code",
   "execution_count": 5,
   "metadata": {},
   "outputs": [],
   "source": [
    "agent = AssistantAgent(\n",
    "    name=\"assistant\",\n",
    "    model_client=client,\n",
    "    tools=[],\n",
    "    system_message=\"You are a travel agent that plans great vacations\",\n",
    ")"
   ]
  },
  {
   "cell_type": "code",
   "execution_count": 6,
   "metadata": {},
   "outputs": [
    {
     "data": {
      "text/html": [
       "<div style='margin-bottom:10px'><div style='font-weight:bold'>User:</div><div style='margin-left:20px'>Plan me a great sunny vacation</div></div><div style='margin-bottom:20px'><div style='font-weight:bold'>Assistant:</div><div style='margin-left:20px; white-space:pre-wrap'>Sure! Here’s a detailed plan for a sunny vacation that combines relaxation, adventure, and cultural experiences.\n",
       "\n",
       "### Destination: Costa Rica\n",
       "\n",
       "**Duration:** 7 days\n",
       "\n",
       "#### Day 1: Arrival in San José\n",
       "- **Flight:** Arrive at Juan Santamaría International Airport (SJO) in San José.\n",
       "- **Accommodation:** Check into a comfortable hotel in San José (recommendation: Hotel Grano de Oro).\n",
       "- **Evening Activity:** Take a leisurely walk around downtown San José and have dinner at a local restaurant. Try traditional Costa Rican cuisine, such as gallo pinto.\n",
       "\n",
       "#### Day 2: Arenal Volcano National Park\n",
       "- **Transfer:** Early morning private transfer to La Fortuna (approximately 3 hours).\n",
       "- **Activity:** Spend the day exploring Arenal Volcano National Park. Enjoy the hiking trails with stunning views of the volcano and the surrounding rainforest.\n",
       "- **Evening Activity:** Relax in the natural hot springs in the area (recommendation: Tabacón Thermal Resort).\n",
       "- **Accommodation:** Overnight at a cozy lodge with volcano views (recommendation: Arenal Observatory Lodge).\n",
       "\n",
       "#### Day 3: Adventure Activities in Arenal\n",
       "- **Morning Activity:** Go on a thrilling zip-line tour through the rainforest canopy.\n",
       "- **Afternoon Activity:** Consider a guided white-water rafting tour on the Balsa River for some adrenaline (various difficulty levels available).\n",
       "- **Evening Activity:** Dinner at a restaurant with a view of the volcano (recommendation: Don Rufino).\n",
       "- **Accommodation:** Overnight at the lodge.\n",
       "\n",
       "#### Day 4: Monteverde Cloud Forest\n",
       "- **Transfer:** Head to Monteverde (approximately 3 hours).\n",
       "- **Activity:** Explore the Monteverde Cloud Forest Reserve. Walk on suspended bridges and spot exotic wildlife.\n",
       "- **Evening Activity:** Visit a local coffee plantation for a tour and tasting.\n",
       "- **Accommodation:** Stay at a charming eco-lodge (recommendation: Monteverde Lodge & Gardens).\n",
       "\n",
       "#### Day 5: Beach Day in Manuel Antonio\n",
       "- **Transfer:** Depart for Manuel Antonio (approximately 3.5 hours).\n",
       "- **Activity:** Arrive at Manuel Antonio National Park for a beach day! Explore the park’s trails and enjoy pristine beaches surrounded by lush jungle.\n",
       "- **Evening Activity:** Watch the sunset on the beach and have dinner at a beachfront restaurant (recommendation: El Avión).\n",
       "- **Accommodation:** Overnight at a beachfront hotel (recommendation: La Mariposa).\n",
       "\n",
       "#### Day 6: Water Activities in Manuel Antonio\n",
       "- **Morning Activity:** Go for snorkeling or paddleboarding excursions in the crystal-clear waters.\n",
       "- **Afternoon Activity:** Relax on the beach or take a guided nature tour to spot sloths, monkeys, and colorful birds.\n",
       "- **Evening Activity:** Enjoy dinner at a local seafood restaurant and perhaps catch a live music performance.\n",
       "- **Accommodation:** Overnight at the hotel.\n",
       "\n",
       "#### Day 7: Departure\n",
       "- **Transfer:** Head back to San José (approximately 2.5 hours).\n",
       "- **Activity:** If time permits, visit a local artisan market for souvenirs before your flight.\n",
       "- **Flight:** Depart from Juan Santamaría International Airport (SJO).\n",
       "\n",
       "### Additional Tips:\n",
       "- **Best Time to Visit:** Dry season from December to April.\n",
       "- **Travel Insurance:** Consider travel insurance for peace of mind.\n",
       "- **Health Precautions:** Make sure to stay hydrated and use sun protection.\n",
       "- **Currency:** The local currency is Costa Rican colón, but many places also accept USD.\n",
       "\n",
       "This itinerary offers a mix of nature, adventure, and relaxation under the sun. Let me know if you’d like any changes or additional options!</div></div>"
      ],
      "text/plain": [
       "<IPython.core.display.HTML object>"
      ]
     },
     "metadata": {},
     "output_type": "display_data"
    }
   ],
   "source": [
    "from IPython.display import display, HTML\n",
    "\n",
    "\n",
    "async def assistant_run():\n",
    "    # Define the query\n",
    "    user_query = \"Plan me a great sunny vacation\"\n",
    "\n",
    "    # Start building HTML output\n",
    "    html_output = \"<div style='margin-bottom:10px'>\"\n",
    "    html_output += \"<div style='font-weight:bold'>User:</div>\"\n",
    "    html_output += f\"<div style='margin-left:20px'>{user_query}</div>\"\n",
    "    html_output += \"</div>\"\n",
    "\n",
    "    # Execute the agent response\n",
    "    response = await agent.on_messages(\n",
    "        [TextMessage(content=user_query, source=\"user\")],\n",
    "        cancellation_token=CancellationToken(),\n",
    "    )\n",
    "\n",
    "    # Add agent response to HTML\n",
    "    html_output += \"<div style='margin-bottom:20px'>\"\n",
    "    html_output += \"<div style='font-weight:bold'>Assistant:</div>\"\n",
    "    html_output += f\"<div style='margin-left:20px; white-space:pre-wrap'>{response.chat_message.content}</div>\"\n",
    "    html_output += \"</div>\"\n",
    "\n",
    "    # Display formatted HTML\n",
    "    display(HTML(html_output))\n",
    "\n",
    "# Run the function\n",
    "await assistant_run()"
   ]
  }
 ],
 "metadata": {
  "kernelspec": {
   "display_name": "venv",
   "language": "python",
   "name": "python3"
  },
  "language_info": {
   "codemirror_mode": {
    "name": "ipython",
    "version": 3
   },
   "file_extension": ".py",
   "mimetype": "text/x-python",
   "name": "python",
   "nbconvert_exporter": "python",
   "pygments_lexer": "ipython3",
   "version": "3.13.3"
  }
 },
 "nbformat": 4,
 "nbformat_minor": 2
}
